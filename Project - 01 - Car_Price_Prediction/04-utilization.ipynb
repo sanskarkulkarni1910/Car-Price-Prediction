{
 "cells": [
  {
   "cell_type": "code",
   "execution_count": 1,
   "id": "d3dbb570-6dc3-4d59-8cd1-71fb8f08665b",
   "metadata": {},
   "outputs": [],
   "source": [
    "import numpy as np\n",
    "import pandas as pd\n",
    "import warnings\n",
    "warnings.filterwarnings('ignore')"
   ]
  },
  {
   "cell_type": "code",
   "execution_count": 3,
   "id": "d87a56a3-0582-4720-8fb6-5d2f4b650da3",
   "metadata": {},
   "outputs": [
    {
     "name": "stdin",
     "output_type": "stream",
     "text": [
      "Enter Company:  Ford\n",
      "Enter name:  Figo\n",
      "Enter Year:  2018\n",
      "Enter Kms Driven:  70000\n",
      "Enter Fuel Type:  Petrol\n"
     ]
    }
   ],
   "source": [
    "company = input(\"Enter Company: \")\n",
    "name = input(\"Enter name: \")\n",
    "year = input(\"Enter Year: \")\n",
    "kms_driven = int(input(\"Enter Kms Driven: \"))\n",
    "fuel_type = input(\"Enter Fuel Type: \")"
   ]
  },
  {
   "cell_type": "code",
   "execution_count": 4,
   "id": "ef4d1ce8-ce3a-4163-a465-a5b5f86d8932",
   "metadata": {},
   "outputs": [],
   "source": [
    "columns = [\"company\", \"name\", \"year\", \"kms_driven\", \"fuel_type\"]\n",
    "myinput = pd.DataFrame(data = [[company, name, year, kms_driven, fuel_type]], columns = columns)"
   ]
  },
  {
   "cell_type": "code",
   "execution_count": 10,
   "id": "5b860964-f2c5-425d-b54e-7080e57e234c",
   "metadata": {},
   "outputs": [],
   "source": [
    "import pickle as pkl\n",
    "import pandas as pd\n",
    "\n",
    "with open(\"cpp.pkl\", \"rb\") as file:\n",
    "    pipe = pkl.load(file)\n"
   ]
  },
  {
   "cell_type": "code",
   "execution_count": 15,
   "id": "82113fe5-4f7a-4a7f-b7ef-5b7ff9bd3bb4",
   "metadata": {},
   "outputs": [
    {
     "name": "stdout",
     "output_type": "stream",
     "text": [
      "Predicted Price: 553951\n"
     ]
    }
   ],
   "source": [
    "price = pipe.predict(myinput)\n",
    "print(\"Predicted Price:\", round(price[0,0]))"
   ]
  },
  {
   "cell_type": "code",
   "execution_count": null,
   "id": "77f4d355-6adf-4843-92f2-5da6292f4acc",
   "metadata": {},
   "outputs": [],
   "source": []
  }
 ],
 "metadata": {
  "kernelspec": {
   "display_name": "Python 3 (ipykernel)",
   "language": "python",
   "name": "python3"
  },
  "language_info": {
   "codemirror_mode": {
    "name": "ipython",
    "version": 3
   },
   "file_extension": ".py",
   "mimetype": "text/x-python",
   "name": "python",
   "nbconvert_exporter": "python",
   "pygments_lexer": "ipython3",
   "version": "3.13.2"
  }
 },
 "nbformat": 4,
 "nbformat_minor": 5
}
