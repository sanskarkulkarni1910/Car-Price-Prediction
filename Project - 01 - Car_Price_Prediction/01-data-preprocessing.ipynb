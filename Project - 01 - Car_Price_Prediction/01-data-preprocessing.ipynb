{
 "cells": [
  {
   "cell_type": "code",
   "execution_count": 1,
   "id": "cb5656f0-7ade-45db-b020-9eafc32bf1e2",
   "metadata": {},
   "outputs": [],
   "source": [
    "#Libraries\n",
    "import numpy as np\n",
    "import pandas as pd\n",
    "import matplotlib.pyplot as plt\n",
    "import seaborn as sns\n",
    "import warnings\n",
    "warnings.filterwarnings('ignore')"
   ]
  },
  {
   "cell_type": "code",
   "execution_count": 3,
   "id": "24d49a30-4ff9-41d7-b26f-093b92643fa7",
   "metadata": {},
   "outputs": [],
   "source": [
    "#load dataset\n",
    "ds = pd.read_csv(\"quikr_car.csv\")"
   ]
  },
  {
   "cell_type": "code",
   "execution_count": 4,
   "id": "c85042dc-3035-4332-998e-72cddb689821",
   "metadata": {},
   "outputs": [
    {
     "name": "stdout",
     "output_type": "stream",
     "text": [
      "<class 'pandas.core.frame.DataFrame'>\n",
      "RangeIndex: 892 entries, 0 to 891\n",
      "Data columns (total 6 columns):\n",
      " #   Column      Non-Null Count  Dtype \n",
      "---  ------      --------------  ----- \n",
      " 0   name        892 non-null    object\n",
      " 1   company     892 non-null    object\n",
      " 2   year        892 non-null    object\n",
      " 3   Price       892 non-null    object\n",
      " 4   kms_driven  840 non-null    object\n",
      " 5   fuel_type   837 non-null    object\n",
      "dtypes: object(6)\n",
      "memory usage: 41.9+ KB\n"
     ]
    }
   ],
   "source": [
    "#Analysis\n",
    "ds.info()"
   ]
  },
  {
   "cell_type": "code",
   "execution_count": 13,
   "id": "0ab3e3a6-3d85-4681-98ae-3eaa4e749ff2",
   "metadata": {},
   "outputs": [],
   "source": [
    "#name column has wrong values\n",
    "#comapny column has wrong values\n",
    "#year has non-numeric values\n",
    "#Price - Ask For Price and ',' is present in every value\n",
    "#kms_driven - Petrol, ',' and ' kms'\n",
    "#fuel_type - null value\n",
    "#name column contains company name"
   ]
  },
  {
   "cell_type": "code",
   "execution_count": 17,
   "id": "c3801651-8cc8-49b3-9735-8d648eaa6581",
   "metadata": {},
   "outputs": [],
   "source": [
    "#Lets convert data type of year column\n",
    "ds[\"year\"] = pd.to_numeric(ds[\"year\"], errors = 'coerce')\n",
    "ds.dropna(subset = [\"year\"], inplace = True)\n",
    "ds[\"year\"] = ds[\"year\"].astype(int)"
   ]
  },
  {
   "cell_type": "code",
   "execution_count": 28,
   "id": "8b710fe9-194c-4065-ad73-480dd9334964",
   "metadata": {},
   "outputs": [],
   "source": [
    "#Lets clean Price column\n",
    "#lets iterate with every record and replace ',' with ''\n",
    "for i in ds.index:\n",
    "    price = ds.loc[i, \"Price\"]\n",
    "    price = price.replace(\",\", \"\")\n",
    "    ds.loc[i, \"Price\"] = price"
   ]
  },
  {
   "cell_type": "code",
   "execution_count": 30,
   "id": "4f0ba83a-0a7a-48b0-802a-3d8dc7ed326d",
   "metadata": {},
   "outputs": [],
   "source": [
    "ds[\"Price\"] = pd.to_numeric(ds[\"Price\"], errors = 'coerce')\n",
    "ds.dropna(subset = [\"Price\"], inplace = True)"
   ]
  },
  {
   "cell_type": "code",
   "execution_count": 32,
   "id": "c2e51b91-cf09-4ac0-90dd-47f84ca41950",
   "metadata": {},
   "outputs": [],
   "source": [
    "def convert_to_numeric_str(s):\n",
    "    s = s.replace(\",\", \"\")\n",
    "    s = s.replace(\" kms\", \"\")\n",
    "    return s"
   ]
  },
  {
   "cell_type": "code",
   "execution_count": 36,
   "id": "9d5db113-f6c6-4f11-bc1f-135c7ae0dfc2",
   "metadata": {},
   "outputs": [],
   "source": [
    "ds[\"kms_driven\"] = ds[\"kms_driven\"].apply(convert_to_numeric_str)"
   ]
  },
  {
   "cell_type": "code",
   "execution_count": 39,
   "id": "e389608a-2ae2-453b-8e84-6092562c4a4f",
   "metadata": {},
   "outputs": [],
   "source": [
    "ds[\"kms_driven\"] = pd.to_numeric(ds[\"kms_driven\"], errors = 'coerce')\n",
    "ds.dropna(subset = [\"kms_driven\"], inplace = True)"
   ]
  },
  {
   "cell_type": "code",
   "execution_count": 40,
   "id": "d2fb9ee5-2a4d-472d-8748-377c51f0abc2",
   "metadata": {},
   "outputs": [
    {
     "name": "stdout",
     "output_type": "stream",
     "text": [
      "<class 'pandas.core.frame.DataFrame'>\n",
      "Index: 817 entries, 0 to 889\n",
      "Data columns (total 6 columns):\n",
      " #   Column      Non-Null Count  Dtype  \n",
      "---  ------      --------------  -----  \n",
      " 0   name        817 non-null    object \n",
      " 1   company     817 non-null    object \n",
      " 2   year        817 non-null    int32  \n",
      " 3   Price       817 non-null    float64\n",
      " 4   kms_driven  817 non-null    float64\n",
      " 5   fuel_type   816 non-null    object \n",
      "dtypes: float64(2), int32(1), object(3)\n",
      "memory usage: 41.5+ KB\n"
     ]
    }
   ],
   "source": [
    "ds.info()"
   ]
  },
  {
   "cell_type": "code",
   "execution_count": 42,
   "id": "12a85bab-cb4e-490d-b589-71f6e5c1fc1b",
   "metadata": {},
   "outputs": [],
   "source": [
    "ds.dropna(subset = [\"fuel_type\"], inplace = True)"
   ]
  },
  {
   "cell_type": "code",
   "execution_count": 44,
   "id": "47733690-4593-4ca5-9f4f-8cf6d8e3b53a",
   "metadata": {},
   "outputs": [
    {
     "data": {
      "text/plain": [
       "array(['Petrol', 'Diesel', 'LPG'], dtype=object)"
      ]
     },
     "execution_count": 44,
     "metadata": {},
     "output_type": "execute_result"
    }
   ],
   "source": [
    "ds[\"fuel_type\"].unique()"
   ]
  },
  {
   "cell_type": "code",
   "execution_count": 47,
   "id": "569137b4-46e1-4449-a972-9e303b6b687e",
   "metadata": {},
   "outputs": [],
   "source": [
    "def replace_company_name(name, company):\n",
    "    name = name.replace(company, \"\").strip()\n",
    "    return name"
   ]
  },
  {
   "cell_type": "code",
   "execution_count": 51,
   "id": "d7757501-f42f-4c72-80e7-77665dd3908c",
   "metadata": {},
   "outputs": [],
   "source": [
    "ds[\"name\"] = ds.apply(lambda row: replace_company_name(row['name'], row['company']), axis=1)"
   ]
  },
  {
   "cell_type": "code",
   "execution_count": 54,
   "id": "8813d72f-f712-459b-ac60-1c57a1ef924a",
   "metadata": {},
   "outputs": [
    {
     "data": {
      "text/plain": [
       "False    724\n",
       "True      92\n",
       "Name: count, dtype: int64"
      ]
     },
     "execution_count": 54,
     "metadata": {},
     "output_type": "execute_result"
    }
   ],
   "source": [
    "ds.duplicated().value_counts()"
   ]
  },
  {
   "cell_type": "code",
   "execution_count": 55,
   "id": "724ed940-0c0a-470e-a24e-840d7c494675",
   "metadata": {},
   "outputs": [],
   "source": [
    "ds.drop_duplicates(inplace = True)"
   ]
  },
  {
   "cell_type": "code",
   "execution_count": 58,
   "id": "11d39d16-5dea-471c-8297-d44e9127cf13",
   "metadata": {},
   "outputs": [],
   "source": [
    "for i in ds.index:\n",
    "    kms_driven = ds.loc[i, \"kms_driven\"]\n",
    "    if kms_driven < 1000:\n",
    "        ds.drop(i, inplace = True)"
   ]
  },
  {
   "cell_type": "code",
   "execution_count": 59,
   "id": "bf9b6494-e164-41e5-b141-e8b819dca36a",
   "metadata": {},
   "outputs": [
    {
     "name": "stdout",
     "output_type": "stream",
     "text": [
      "<class 'pandas.core.frame.DataFrame'>\n",
      "Index: 709 entries, 0 to 889\n",
      "Data columns (total 6 columns):\n",
      " #   Column      Non-Null Count  Dtype  \n",
      "---  ------      --------------  -----  \n",
      " 0   name        709 non-null    object \n",
      " 1   company     709 non-null    object \n",
      " 2   year        709 non-null    int32  \n",
      " 3   Price       709 non-null    float64\n",
      " 4   kms_driven  709 non-null    float64\n",
      " 5   fuel_type   709 non-null    object \n",
      "dtypes: float64(2), int32(1), object(3)\n",
      "memory usage: 52.2+ KB\n"
     ]
    }
   ],
   "source": [
    "ds.info()"
   ]
  },
  {
   "cell_type": "code",
   "execution_count": 61,
   "id": "42ea5227-0df7-4c4d-a812-5a74732fa7e3",
   "metadata": {},
   "outputs": [],
   "source": [
    "ds.reset_index(drop = True, inplace = True)"
   ]
  },
  {
   "cell_type": "code",
   "execution_count": 63,
   "id": "fd1bc900-f45d-4431-ab2d-7259c824372c",
   "metadata": {},
   "outputs": [],
   "source": [
    "ds.to_csv(\"cleaned_data.csv\")"
   ]
  },
  {
   "cell_type": "code",
   "execution_count": null,
   "id": "2b2722a6-45c4-4203-bac2-bb2676a5fb9e",
   "metadata": {},
   "outputs": [],
   "source": []
  }
 ],
 "metadata": {
  "kernelspec": {
   "display_name": "Python 3 (ipykernel)",
   "language": "python",
   "name": "python3"
  },
  "language_info": {
   "codemirror_mode": {
    "name": "ipython",
    "version": 3
   },
   "file_extension": ".py",
   "mimetype": "text/x-python",
   "name": "python",
   "nbconvert_exporter": "python",
   "pygments_lexer": "ipython3",
   "version": "3.13.2"
  }
 },
 "nbformat": 4,
 "nbformat_minor": 5
}
